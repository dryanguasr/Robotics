{
 "cells": [
  {
   "cell_type": "code",
   "execution_count": null,
   "metadata": {},
   "outputs": [],
   "source": [
    "import numpy as np\n",
    "import sympy as sp\n",
    "import matplotlib.pyplot as plt\n",
    "from matplotlib.animation import FuncAnimation\n",
    "from mpl_toolkits.mplot3d import Axes3D  # noqa: F401\n",
    "from IPython.display import HTML\n",
    "from utils import time_vector\n",
    "\n",
    "plt.style.use('seaborn-v0_8')\n"
   ]
  },
  {
   "cell_type": "markdown",
   "metadata": {},
   "source": [
    "# Control cinemático de un manipulador espacial de 4 GDL (x, y, z, pitch)\n"
   ]
  },
  {
   "cell_type": "markdown",
   "metadata": {},
   "source": [
    "## 1. Parámetros\n"
   ]
  },
  {
   "cell_type": "code",
   "execution_count": null,
   "metadata": {},
   "outputs": [],
   "source": [
    "params_4dof = {\n",
    "    'L1': 0.4,  # desplazamiento vertical de la base\n",
    "    'L2': 0.5,\n",
    "    'L3': 0.35\n",
    "}\n",
    "\n",
    "sim_config_4dof = {\n",
    "    'kp': np.diag([8.0, 8.0, 8.0, 5.0]),\n",
    "    't0': 0.0,\n",
    "    'tf': 10.0,\n",
    "    'n_steps': 900\n",
    "}\n",
    "\n",
    "t_4dof, dt_4dof = time_vector(sim_config_4dof)\n"
   ]
  },
  {
   "cell_type": "markdown",
   "metadata": {},
   "source": [
    "## 2. Cinemática directa\n"
   ]
  },
  {
   "cell_type": "code",
   "execution_count": null,
   "metadata": {},
   "outputs": [],
   "source": [
    "def fkine_4dof(q, params):\n",
    "    q1, q2, q3, q4 = q\n",
    "    L1, L2, L3 = params['L1'], params['L2'], params['L3']\n",
    "\n",
    "    c1, s1 = np.cos(q1), np.sin(q1)\n",
    "    c2, s2 = np.cos(q2), np.sin(q2)\n",
    "    c23, s23 = np.cos(q2 + q3), np.sin(q2 + q3)\n",
    "\n",
    "    reach = L2 * c2 + L3 * c23\n",
    "    x = c1 * reach\n",
    "    y = s1 * reach\n",
    "    z = L1 + L2 * s2 + L3 * s23\n",
    "    pitch = q2 + q3 + q4\n",
    "    return np.array([x, y, z, pitch])\n",
    "\n",
    "fkine_4dof(np.array([0.0, 0.2, -0.3, 0.1]), params_4dof)\n"
   ]
  },
  {
   "cell_type": "markdown",
   "metadata": {},
   "source": [
    "## 3. Jacobiano\n"
   ]
  },
  {
   "cell_type": "code",
   "execution_count": null,
   "metadata": {},
   "outputs": [],
   "source": [
    "def jacobian_4dof(q, params):\n",
    "    q1, q2, q3, q4 = q\n",
    "    L1, L2, L3 = params['L1'], params['L2'], params['L3']\n",
    "\n",
    "    c1, s1 = np.cos(q1), np.sin(q1)\n",
    "    c2, s2 = np.cos(q2), np.sin(q2)\n",
    "    c23, s23 = np.cos(q2 + q3), np.sin(q2 + q3)\n",
    "    reach = L2 * c2 + L3 * c23\n",
    "    reach_s = -L2 * s2 - L3 * s23\n",
    "\n",
    "    J = np.array([\n",
    "        [-s1 * reach, c1 * reach_s, c1 * (-L3 * s23), 0.0],\n",
    "        [ c1 * reach, s1 * reach_s, s1 * (-L3 * s23), 0.0],\n",
    "        [ 0.0,        L2 * c2 + L3 * c23, L3 * c23, 0.0],\n",
    "        [ 0.0, 1.0, 1.0, 1.0]\n",
    "    ])\n",
    "    return J\n",
    "\n",
    "jacobian_4dof(np.array([0.0, 0.2, -0.3, 0.1]), params_4dof)\n"
   ]
  },
  {
   "cell_type": "markdown",
   "metadata": {},
   "source": [
    "### Derivación simbólica\n"
   ]
  },
  {
   "cell_type": "code",
   "execution_count": null,
   "metadata": {},
   "outputs": [],
   "source": [
    "q1_s, q2_s, q3_s, q4_s, L1_s, L2_s, L3_s = sp.symbols('q1 q2 q3 q4 L1 L2 L3')\n",
    "reach = L2_s * sp.cos(q2_s) + L3_s * sp.cos(q2_s + q3_s)\n",
    "px = sp.cos(q1_s) * reach\n",
    "py = sp.sin(q1_s) * reach\n",
    "pz = L1_s + L2_s * sp.sin(q2_s) + L3_s * sp.sin(q2_s + q3_s)\n",
    "pitch = q2_s + q3_s + q4_s\n",
    "J_sym = sp.Matrix([px, py, pz, pitch]).jacobian([q1_s, q2_s, q3_s, q4_s])\n",
    "sp.simplify(J_sym)\n"
   ]
  },
  {
   "cell_type": "markdown",
   "metadata": {},
   "source": [
    "## 4. Trayectoria objetivo en el plano XZ\n"
   ]
  },
  {
   "cell_type": "code",
   "execution_count": null,
   "metadata": {},
   "outputs": [],
   "source": [
    "radius_4dof = 0.18\n",
    "center_xz = (0.55, 0.55)  # (x, z)\n",
    "y_ref = 0.15\n",
    "omega_4dof = 0.8\n",
    "\n",
    "t = t_4dof\n",
    "cx, cz = center_xz\n",
    "xd = cx + radius_4dof * np.cos(omega_4dof * t)\n",
    "yd = np.full_like(xd, y_ref)\n",
    "zd = cz + radius_4dof * np.sin(omega_4dof * t)\n",
    "xdp = -radius_4dof * omega_4dof * np.sin(omega_4dof * t)\n",
    "ydp = np.zeros_like(xd)\n",
    "zdp = radius_4dof * omega_4dof * np.cos(omega_4dof * t)\n",
    "pitch_d = np.unwrap(np.arctan2(zdp, xdp))\n",
    "pitch_dp = np.gradient(pitch_d, t)\n",
    "\n",
    "Xd_4dof = np.vstack((xd, yd, zd, pitch_d))\n",
    "Vd_4dof = np.vstack((xdp, ydp, zdp, pitch_dp))\n",
    "Xd_4dof[:, :3]\n"
   ]
  },
  {
   "cell_type": "markdown",
   "metadata": {},
   "source": [
    "## 5. Control cinemático\n"
   ]
  },
  {
   "cell_type": "code",
   "execution_count": null,
   "metadata": {},
   "outputs": [],
   "source": [
    "def kinematic_control_step_4dof(q, params, xd, xdp, kp):\n",
    "    x = fkine_4dof(q, params)\n",
    "    J = jacobian_4dof(q, params)\n",
    "    dq = np.linalg.solve(J, xdp + kp @ (xd - x))\n",
    "    return dq, x\n",
    "\n",
    "kinematic_control_step_4dof(np.array([0.0, 0.2, -0.3, 0.1]), params_4dof, Xd_4dof[:, 0], Vd_4dof[:, 0], sim_config_4dof['kp'])\n"
   ]
  },
  {
   "cell_type": "markdown",
   "metadata": {},
   "source": [
    "## 6. Simulación\n"
   ]
  },
  {
   "cell_type": "code",
   "execution_count": null,
   "metadata": {},
   "outputs": [],
   "source": [
    "def simulate_4dof_control(q0, params, Xd, Vd, t, kp):\n",
    "    n = t.size\n",
    "    dt = t[1] - t[0]\n",
    "    q = np.zeros((4, n))\n",
    "    X = np.zeros((4, n))\n",
    "    q[:, 0] = q0\n",
    "    X[:, 0] = fkine_4dof(q0, params)\n",
    "    for k in range(1, n):\n",
    "        dq, _ = kinematic_control_step_4dof(q[:, k-1], params, Xd[:, k-1], Vd[:, k-1], kp)\n",
    "        q[:, k] = q[:, k-1] + dt * dq\n",
    "        X[:, k] = fkine_4dof(q[:, k])\n",
    "    return q, X\n",
    "\n",
    "q0_4dof = np.array([0.0, 0.3, -0.4, 0.2])\n",
    "theta_4dof, X_4dof = simulate_4dof_control(q0_4dof, params_4dof, Xd_4dof, Vd_4dof, t_4dof, sim_config_4dof['kp'])\n",
    "X_4dof[:, :3]\n"
   ]
  },
  {
   "cell_type": "code",
   "execution_count": null,
   "metadata": {},
   "outputs": [],
   "source": [
    "pos_error_4dof = np.linalg.norm(Xd_4dof[:3] - X_4dof[:3], axis=0)\n",
    "pitch_error_4dof = np.angle(np.exp(1j * (Xd_4dof[3] - X_4dof[3])))\n",
    "max_pos_error_4dof = float(np.max(pos_error_4dof))\n",
    "max_pitch_error_4dof = float(np.max(np.abs(pitch_error_4dof)))\n",
    "print(f'Error máximo de posición: {max_pos_error_4dof:.4f} m')\n",
    "print(f'Error máximo de pitch: {max_pitch_error_4dof:.4f} rad')\n",
    "assert max_pos_error_4dof < 6e-2\n",
    "assert max_pitch_error_4dof < 8e-2\n"
   ]
  },
  {
   "cell_type": "markdown",
   "metadata": {},
   "source": [
    "## 7. Visualización\n"
   ]
  },
  {
   "cell_type": "code",
   "execution_count": null,
   "metadata": {},
   "outputs": [],
   "source": [
    "fig = plt.figure(figsize=(7, 5))\n",
    "ax = fig.add_subplot(111, projection='3d')\n",
    "ax.plot(Xd_4dof[0], Xd_4dof[1], Xd_4dof[2], '--', label='Trayectoria deseada')\n",
    "ax.plot(X_4dof[0], X_4dof[1], X_4dof[2], label='Seguimiento')\n",
    "ax.set_xlabel('x [m]')\n",
    "ax.set_ylabel('y [m]')\n",
    "ax.set_zlabel('z [m]')\n",
    "ax.set_title('Seguimiento de trayectoria 3D')\n",
    "ax.legend(loc='upper right')\n",
    "plt.tight_layout()\n"
   ]
  },
  {
   "cell_type": "code",
   "execution_count": null,
   "metadata": {},
   "outputs": [],
   "source": [
    "plt.figure(figsize=(6, 3))\n",
    "plt.plot(t_4dof, pos_error_4dof, label='Error posicional')\n",
    "plt.plot(t_4dof, np.rad2deg(pitch_error_4dof), label='Error de pitch [deg]')\n",
    "plt.xlabel('Tiempo [s]')\n",
    "plt.ylabel('Error')\n",
    "plt.title('Errores de seguimiento')\n",
    "plt.legend()\n",
    "plt.grid(True)\n",
    "plt.tight_layout()\n"
   ]
  },
  {
   "cell_type": "markdown",
   "metadata": {},
   "source": [
    "### Animación\n"
   ]
  },
  {
   "cell_type": "code",
   "execution_count": null,
   "metadata": {},
   "outputs": [],
   "source": [
    "def animate_4dof(theta, X, Xd, params, skip=3):\n",
    "    L1, L2, L3 = params['L1'], params['L2'], params['L3']\n",
    "\n",
    "    fig = plt.figure(figsize=(7, 6))\n",
    "    ax = fig.add_subplot(111, projection='3d')\n",
    "    ax.set_title('Robot espacial de 4 GDL')\n",
    "\n",
    "    margin = 0.15\n",
    "    x_all = np.concatenate([X[0], Xd[0]])\n",
    "    y_all = np.concatenate([X[1], Xd[1]])\n",
    "    z_all = np.concatenate([X[2], Xd[2], np.array([0.0, L1 + L2 + L3])])\n",
    "    ax.set_xlim(np.min(x_all) - margin, np.max(x_all) + margin)\n",
    "    ax.set_ylim(np.min(y_all) - margin, np.max(y_all) + margin)\n",
    "    ax.set_zlim(np.min(z_all) - margin, np.max(z_all) + margin)\n",
    "    ax.set_xlabel('x [m]')\n",
    "    ax.set_ylabel('y [m]')\n",
    "    ax.set_zlabel('z [m]')\n",
    "\n",
    "    desired_line, = ax.plot(Xd[0], Xd[1], Xd[2], '--', linewidth=1.2, label='Trayectoria deseada')\n",
    "    trail_line,   = ax.plot([], [], [], ':', linewidth=1.5, label='Rastro EE')\n",
    "    link_line,    = ax.plot([], [], [], 'k-o', linewidth=3)\n",
    "    orient_quiver = None\n",
    "    ax.legend(loc='upper right')\n",
    "\n",
    "    def joint_positions(q):\n",
    "        q1, q2, q3, q4 = q\n",
    "        c1, s1 = np.cos(q1), np.sin(q1)\n",
    "        c2, s2 = np.cos(q2), np.sin(q2)\n",
    "        c23, s23 = np.cos(q2 + q3), np.sin(q2 + q3)\n",
    "        base = np.array([0.0, 0.0, 0.0])\n",
    "        shoulder = np.array([0.0, 0.0, L1])\n",
    "        reach2 = L2 * np.array([c1 * c2, s1 * c2, s2])\n",
    "        elbow = shoulder + reach2\n",
    "        reach3 = L3 * np.array([c1 * c23, s1 * c23, s23])\n",
    "        wrist = elbow + reach3\n",
    "        pitch = q2 + q3 + q4\n",
    "        tool_dir = np.array([c1 * np.cos(pitch), s1 * np.cos(pitch), np.sin(pitch)])\n",
    "        return base, shoulder, elbow, wrist, tool_dir\n",
    "\n",
    "    trail_points = []\n",
    "\n",
    "    def update(frame):\n",
    "        nonlocal orient_quiver\n",
    "        k = frame * skip\n",
    "        if k >= theta.shape[1]:\n",
    "            k = theta.shape[1] - 1\n",
    "        base, shoulder, elbow, wrist, tool_dir = joint_positions(theta[:, k])\n",
    "        xs = [base[0], shoulder[0], elbow[0], wrist[0]]\n",
    "        ys = [base[1], shoulder[1], elbow[1], wrist[1]]\n",
    "        zs = [base[2], shoulder[2], elbow[2], wrist[2]]\n",
    "        link_line.set_data(xs, ys)\n",
    "        link_line.set_3d_properties(zs)\n",
    "\n",
    "        trail_points.append(wrist)\n",
    "        trail_arr = np.array(trail_points)\n",
    "        trail_line.set_data(trail_arr[:, 0], trail_arr[:, 1])\n",
    "        trail_line.set_3d_properties(trail_arr[:, 2])\n",
    "\n",
    "        if orient_quiver is not None:\n",
    "            orient_quiver.remove()\n",
    "        orient_quiver = ax.quiver(\n",
    "            wrist[0], wrist[1], wrist[2],\n",
    "            tool_dir[0], tool_dir[1], tool_dir[2],\n",
    "            length=0.15, color='tab:red'\n",
    "        )\n",
    "        return link_line, trail_line, orient_quiver\n",
    "\n",
    "    frames = max(1, theta.shape[1] // skip)\n",
    "    anim = FuncAnimation(fig, update, frames=frames, interval=40, blit=False, repeat=False)\n",
    "    plt.close(fig)\n",
    "    return anim\n",
    "\n",
    "anim_4dof = animate_4dof(theta_4dof, X_4dof, Xd_4dof, params_4dof)\n",
    "HTML(anim_4dof.to_jshtml())\n"
   ]
  }
 ],
 "metadata": {
  "kernelspec": {
   "display_name": "Python 3",
   "language": "python",
   "name": "python3"
  },
  "language_info": {
   "name": "python",
   "version": "3.10"
  }
 },
 "nbformat": 4,
 "nbformat_minor": 5
}