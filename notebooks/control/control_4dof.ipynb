{
 "cells": [
  {
   "cell_type": "markdown",
   "metadata": {},
   "source": [
    "# Control Cinemático 4 GDL espacial\n",
    "\n",
    "Seguimiento de una trayectoria circular en el plano XZ para un manipulador con cuatro articulaciones rotacionales (4 eslabones) controlando posición $(x, y, z)$ y orientación de pitch."
   ]
  },
  {
   "cell_type": "markdown",
   "metadata": {},
   "source": [
    "## 1. Configuración de simulación"
   ]
  },
  {
   "cell_type": "code",
   "metadata": {},
   "execution_count": null,
   "outputs": [],
   "source": [
    "import sys\n",
    "import pathlib\n",
    "import numpy as np\n",
    "import matplotlib.pyplot as plt\n",
    "from matplotlib import animation\n",
    "from IPython.display import HTML\n",
    "\n",
    "plt.rcParams['animation.embed_limit'] = 80\n",
    "\n",
    "ROOT = pathlib.Path().resolve().parents[1]\n",
    "if str(ROOT) not in sys.path:\n",
    "    sys.path.append(str(ROOT))\n",
    "\n",
    "from notebooks.control.utils import time_vector"
   ]
  },
  {
   "cell_type": "code",
   "metadata": {},
   "execution_count": null,
   "outputs": [],
   "source": [
    "sim_config = {\"t0\": 0.0, \"tf\": 24.0, \"n_steps\": 720}\n",
    "radius = 0.12\n",
    "center_x = 0.25\n",
    "center_z = 0.25\n",
    "constant_y = 0.04\n",
    "omega = 2 * np.pi / (sim_config[\"tf\"] - sim_config[\"t0\"])\n",
    "\n",
    "t, dt = time_vector(sim_config)\n",
    "\n",
    "x_ref = center_x + radius * np.cos(omega * t)\n",
    "y_ref = np.full_like(t, constant_y)\n",
    "z_ref = center_z + radius * np.sin(omega * t)\n",
    "\n",
    "xd_dot = np.gradient(x_ref, dt)\n",
    "yd_dot = np.gradient(y_ref, dt)\n",
    "zd_dot = np.gradient(z_ref, dt)\n",
    "\n",
    "pitch_ref = np.unwrap(np.arctan2(zd_dot, xd_dot))\n",
    "pitch_dot = np.gradient(pitch_ref, dt)\n",
    "\n",
    "Xd = np.vstack((x_ref, y_ref, z_ref, pitch_ref))\n",
    "Vd = np.vstack((xd_dot, yd_dot, zd_dot, pitch_dot))\n",
    "\n",
    "L1 = 0.12\n",
    "L2 = 0.18\n",
    "L3 = 0.16\n",
    "L4 = 0.12"
   ]
  },
  {
   "cell_type": "markdown",
   "metadata": {},
   "source": [
    "## 2. Modelo cinemático\n",
    "Se definen las funciones de cinemática directa y Jacobiano analítico para el vector de estado $[x, y, z, \theta]$ (pitch)."
   ]
  },
  {
   "cell_type": "code",
   "metadata": {},
   "execution_count": null,
   "outputs": [],
   "source": [
    "def forward_kinematics(q: np.ndarray) -> np.ndarray:\n",
    "    q1, q2, q3, q4 = q\n",
    "    c1, s1 = np.cos(q1), np.sin(q1)\n",
    "    s2, c2 = np.sin(q2), np.cos(q2)\n",
    "    s23, c23 = np.sin(q2 + q3), np.cos(q2 + q3)\n",
    "    s234, c234 = np.sin(q2 + q3 + q4), np.cos(q2 + q3 + q4)\n",
    "\n",
    "    radial = L2 * c2 + L3 * c23 + L4 * c234\n",
    "    x = c1 * radial\n",
    "    y = s1 * radial\n",
    "    z = L1 + L2 * s2 + L3 * s23 + L4 * s234\n",
    "    pitch = q2 + q3 + q4\n",
    "    return np.array([x, y, z, pitch])\n",
    "\n",
    "\n",
    "def jacobian(q: np.ndarray) -> np.ndarray:\n",
    "    q1, q2, q3, q4 = q\n",
    "    c1, s1 = np.cos(q1), np.sin(q1)\n",
    "    s2, c2 = np.sin(q2), np.cos(q2)\n",
    "    s23, c23 = np.sin(q2 + q3), np.cos(q2 + q3)\n",
    "    s234, c234 = np.sin(q2 + q3 + q4), np.cos(q2 + q3 + q4)\n",
    "\n",
    "    radial = L2 * c2 + L3 * c23 + L4 * c234\n",
    "    dr_dq2 = -L2 * s2 - L3 * s23 - L4 * s234\n",
    "    dr_dq3 = -L3 * s23 - L4 * s234\n",
    "    dr_dq4 = -L4 * s234\n",
    "\n",
    "    dz_dq2 = L2 * c2 + L3 * c23 + L4 * c234\n",
    "    dz_dq3 = L3 * c23 + L4 * c234\n",
    "    dz_dq4 = L4 * c234\n",
    "\n",
    "    J = np.array(\n",
    "        [\n",
    "            [-s1 * radial, c1 * dr_dq2, c1 * dr_dq3, c1 * dr_dq4],\n",
    "            [c1 * radial, s1 * dr_dq2, s1 * dr_dq3, s1 * dr_dq4],\n",
    "            [0.0, dz_dq2, dz_dq3, dz_dq4],\n",
    "            [0.0, 1.0, 1.0, 1.0],\n",
    "        ]\n",
    "    )\n",
    "    return J"
   ]
  },
  {
   "cell_type": "markdown",
   "metadata": {},
   "source": [
    "## 3. Control cinemático"
   ]
  },
  {
   "cell_type": "code",
   "metadata": {},
   "execution_count": null,
   "outputs": [],
   "source": [
    "Kp = np.diag([8.0, 8.0, 8.0, 4.0])\n",
    "q = np.zeros((4, t.size))\n",
    "q[:, 0] = np.array([0.0, np.pi / 6, -np.pi / 6, 0.0])\n",
    "X = np.zeros((4, t.size))\n",
    "\n",
    "for k in range(t.size - 1):\n",
    "    X[:, k] = forward_kinematics(q[:, k])\n",
    "    error = Xd[:, k] - X[:, k]\n",
    "    error[3] = (error[3] + np.pi) % (2 * np.pi) - np.pi\n",
    "    v_ref = Vd[:, k] + Kp @ error\n",
    "    J = jacobian(q[:, k])\n",
    "    dq = np.linalg.pinv(J) @ v_ref\n",
    "    q[:, k + 1] = q[:, k] + dq * dt\n",
    "\n",
    "X[:, -1] = forward_kinematics(q[:, -1])"
   ]
  },
  {
   "cell_type": "markdown",
   "metadata": {},
   "source": [
    "## 4. Validación del error"
   ]
  },
  {
   "cell_type": "code",
   "metadata": {},
   "execution_count": null,
   "outputs": [],
   "source": [
    "pos_error = np.linalg.norm(Xd[:3] - X[:3], axis=0)\n",
    "pitch_error = ((Xd[3] - X[3]) + np.pi) % (2 * np.pi) - np.pi\n",
    "max_pos_error = float(pos_error.max())\n",
    "max_pitch_error = float(np.abs(pitch_error).max())\n",
    "print(f\"Error máximo de posición: {max_pos_error:.4f} m\")\n",
    "print(f\"Error máximo de pitch: {np.degrees(max_pitch_error):.2f} grados\")\n",
    "assert max_pos_error < 0.03, \"El error de posición excede 3 cm\"\n",
    "assert max_pitch_error < np.deg2rad(3.0), \"El error de pitch excede 3 grados\""
   ]
  },
  {
   "cell_type": "markdown",
   "metadata": {},
   "source": [
    "## 5. Gráficas de seguimiento"
   ]
  },
  {
   "cell_type": "code",
   "metadata": {},
   "execution_count": null,
   "outputs": [],
   "source": [
    "fig, axes = plt.subplots(2, 2, figsize=(12, 8))\n",
    "labels = [\"x\", \"y\", \"z\", \"pitch\"]\n",
    "for i, ax in enumerate(axes.flat):\n",
    "    ax.plot(t, Xd[i], \"--\", label=\"Deseada\")\n",
    "    ax.plot(t, X[i], label=\"Seguimiento\")\n",
    "    ax.set_xlabel(\"Tiempo [s]\")\n",
    "    ax.set_ylabel(labels[i])\n",
    "    ax.legend()\n",
    "    ax.grid(True)\n",
    "fig.tight_layout()\n",
    "fig"
   ]
  },
  {
   "cell_type": "markdown",
   "metadata": {},
   "source": [
    "## 6. Animación 3D"
   ]
  },
  {
   "cell_type": "code",
   "metadata": {},
   "execution_count": null,
   "outputs": [],
   "source": [
    "def arm_points(q: np.ndarray) -> np.ndarray:\n",
    "    q1, q2, q3, q4 = q\n",
    "    c1, s1 = np.cos(q1), np.sin(q1)\n",
    "    s2, c2 = np.sin(q2), np.cos(q2)\n",
    "    s23, c23 = np.sin(q2 + q3), np.cos(q2 + q3)\n",
    "    s234, c234 = np.sin(q2 + q3 + q4), np.cos(q2 + q3 + q4)\n",
    "\n",
    "    base = np.array([0.0, 0.0, 0.0])\n",
    "    joint1 = np.array([0.0, 0.0, L1])\n",
    "\n",
    "    r2 = L2 * c2\n",
    "    z2 = L1 + L2 * s2\n",
    "    joint2 = np.array([c1 * r2, s1 * r2, z2])\n",
    "\n",
    "    r3 = L2 * c2 + L3 * c23\n",
    "    z3 = L1 + L2 * s2 + L3 * s23\n",
    "    joint3 = np.array([c1 * r3, s1 * r3, z3])\n",
    "\n",
    "    r4 = L2 * c2 + L3 * c23 + L4 * c234\n",
    "    z4 = L1 + L2 * s2 + L3 * s23 + L4 * s234\n",
    "    ee = np.array([c1 * r4, s1 * r4, z4])\n",
    "\n",
    "    return np.stack((base, joint1, joint2, joint3, ee), axis=1)\n",
    "\n",
    "\n",
    "fig = plt.figure(figsize=(6, 6))\n",
    "ax = fig.add_subplot(111, projection=\"3d\")\n",
    "ax.set_xlim(0.0, 0.6)\n",
    "ax.set_ylim(-0.4, 0.4)\n",
    "ax.set_zlim(0.0, 0.6)\n",
    "ax.set_xlabel(\"x [m]\")\n",
    "ax.set_ylabel(\"y [m]\")\n",
    "ax.set_zlabel(\"z [m]\")\n",
    "ax.set_title(\"Trayectoria circular en plano XZ\")\n",
    "ax.plot(x_ref, y_ref, z_ref, \"--\", color=\"tab:orange\", label=\"Trayectoria deseada\")\n",
    "arm_line, = ax.plot([], [], [], \"o-\", color=\"tab:blue\", lw=2, label=\"Robot\")\n",
    "ax.legend(loc=\"upper left\")\n",
    "\n",
    "frames = range(0, t.size, 3)\n",
    "\n",
    "\n",
    "def init():\n",
    "    arm_line.set_data([], [])\n",
    "    arm_line.set_3d_properties([])\n",
    "    return (arm_line,)\n",
    "\n",
    "\n",
    "def animate(i):\n",
    "    pts = arm_points(q[:, i])\n",
    "    arm_line.set_data(pts[0], pts[1])\n",
    "    arm_line.set_3d_properties(pts[2])\n",
    "    return (arm_line,)\n",
    "\n",
    "\n",
    "anim = animation.FuncAnimation(\n",
    "    fig, animate, init_func=init, frames=frames, interval=40, blit=True\n",
    ")\n",
    "HTML(anim.to_jshtml())"
   ]
  }
 ],
 "metadata": {
  "kernelspec": {
   "display_name": "Python 3",
   "language": "python",
   "name": "python3"
  },
  "language_info": {
   "name": "python",
   "version": "3.x"
  }
 },
 "nbformat": 4,
 "nbformat_minor": 5
}