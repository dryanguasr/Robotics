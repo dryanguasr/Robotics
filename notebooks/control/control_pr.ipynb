{
 "cells": [
  {
   "cell_type": "markdown",
   "metadata": {},
   "source": [
    "# Control Cinemático PR\n",
    "\n",
    "Seguimiento de trayectorias circulares para un manipulador con una articulación prismática seguida de una articulación rotacional."
   ]
  },
  {
   "cell_type": "markdown",
   "metadata": {},
   "source": [
    "## 1. Configuración del experimento\n",
    "Definimos la duración de la simulación, el radio de la trayectoria y los parámetros geométricos del robot."
   ]
  },
  {
   "cell_type": "code",
   "metadata": {},
   "execution_count": null,
   "outputs": [],
   "source": [
    "import sys\n",
    "import pathlib\n",
    "import numpy as np\n",
    "import matplotlib.pyplot as plt\n",
    "from matplotlib import animation\n",
    "from IPython.display import HTML\n",
    "\n",
    "plt.rcParams['animation.embed_limit'] = 60\n",
    "\n",
    "ROOT = pathlib.Path().resolve().parents[1]\n",
    "if str(ROOT) not in sys.path:\n",
    "    sys.path.append(str(ROOT))\n",
    "\n",
    "from notebooks.control.utils import time_vector, circular_task_reference, plot_tracking"
   ]
  },
  {
   "cell_type": "code",
   "metadata": {},
   "execution_count": null,
   "outputs": [],
   "source": [
    "sim_config = {\"t0\": 0.0, \"tf\": 20.0, \"n_steps\": 600}\n",
    "radius = 0.12\n",
    "center = (0.25, 0.18)\n",
    "omega = 2 * np.pi / (sim_config[\"tf\"] - sim_config[\"t0\"])\n",
    "\n",
    "t, dt = time_vector(sim_config)\n",
    "Xd, Vd = circular_task_reference(radius, center, omega, t)\n",
    "\n",
    "L2 = 0.25"
   ]
  },
  {
   "cell_type": "markdown",
   "metadata": {},
   "source": [
    "## 2. Modelo cinemático\n",
    "Funciones para el cálculo de la cinemática directa y la matriz Jacobiana del manipulador PR."
   ]
  },
  {
   "cell_type": "code",
   "metadata": {},
   "execution_count": null,
   "outputs": [],
   "source": [
    "def forward_kinematics(q: np.ndarray) -> np.ndarray:\n",
    "    q1, q2 = q\n",
    "    x = q1 + L2 * np.cos(q2)\n",
    "    y = L2 * np.sin(q2)\n",
    "    return np.array([x, y])\n",
    "\n",
    "\n",
    "def jacobian(q: np.ndarray) -> np.ndarray:\n",
    "    _, q2 = q\n",
    "    return np.array(\n",
    "        [\n",
    "            [1.0, -L2 * np.sin(q2)],\n",
    "            [0.0, L2 * np.cos(q2)],\n",
    "        ]\n",
    "    )"
   ]
  },
  {
   "cell_type": "markdown",
   "metadata": {},
   "source": [
    "## 3. Control cinemático\n",
    "Aplicamos un controlador proporcional en el espacio cartesiano y resolvemos las velocidades articulares con la pseudo-inversa del Jacobiano."
   ]
  },
  {
   "cell_type": "code",
   "metadata": {},
   "execution_count": null,
   "outputs": [],
   "source": [
    "Kp = np.diag([6.0, 6.0])\n",
    "q = np.zeros((2, t.size))\n",
    "q[:, 0] = np.array([center[0], np.pi / 6])\n",
    "X = np.zeros((2, t.size))\n",
    "\n",
    "for k in range(t.size - 1):\n",
    "    X[:, k] = forward_kinematics(q[:, k])\n",
    "    error = Xd[:, k] - X[:, k]\n",
    "    v_ref = Vd[:, k] + Kp @ error\n",
    "    J = jacobian(q[:, k])\n",
    "    dq = np.linalg.pinv(J) @ v_ref\n",
    "    q[:, k + 1] = q[:, k] + dq * dt\n",
    "\n",
    "X[:, -1] = forward_kinematics(q[:, -1])"
   ]
  },
  {
   "cell_type": "markdown",
   "metadata": {},
   "source": [
    "## 4. Verificación del error\n",
    "Comprobamos que el error máximo de seguimiento se mantiene dentro de un umbral tolerable."
   ]
  },
  {
   "cell_type": "code",
   "metadata": {},
   "execution_count": null,
   "outputs": [],
   "source": [
    "tracking_error = np.linalg.norm(Xd - X, axis=0)\n",
    "max_error = float(tracking_error.max())\n",
    "print(f\"Error máximo de seguimiento: {max_error:.4f} m\")\n",
    "assert max_error < 0.02, \"El error de seguimiento excede el umbral de 2 cm\""
   ]
  },
  {
   "cell_type": "markdown",
   "metadata": {},
   "source": [
    "## 5. Trayectoria y errores"
   ]
  },
  {
   "cell_type": "code",
   "metadata": {},
   "execution_count": null,
   "outputs": [],
   "source": [
    "fig = plot_tracking(X, Xd, t)\n",
    "fig"
   ]
  },
  {
   "cell_type": "markdown",
   "metadata": {},
   "source": [
    "## 6. Animación del movimiento\n",
    "Se visualiza el desplazamiento del efector final sobre la trayectoria circular."
   ]
  },
  {
   "cell_type": "code",
   "metadata": {},
   "execution_count": null,
   "outputs": [],
   "source": [
    "def arm_points(q: np.ndarray) -> np.ndarray:\n",
    "    q1, q2 = q\n",
    "    base = np.array([0.0, 0.0])\n",
    "    joint = np.array([q1, 0.0])\n",
    "    end = joint + L2 * np.array([np.cos(q2), np.sin(q2)])\n",
    "    return np.stack((base, joint, end), axis=1)\n",
    "\n",
    "\n",
    "fig, ax = plt.subplots(figsize=(5, 5))\n",
    "ax.set_aspect(\"equal\", adjustable=\"box\")\n",
    "ax.set_xlim(0.0, 0.6)\n",
    "ax.set_ylim(-0.2, 0.6)\n",
    "ax.set_xlabel(\"x [m]\")\n",
    "ax.set_ylabel(\"y [m]\")\n",
    "ax.set_title(\"Control cinemático PR\")\n",
    "ax.plot(Xd[0], Xd[1], \"--\", color=\"tab:orange\", label=\"Trayectoria deseada\")\n",
    "arm_line, = ax.plot([], [], \"o-\", lw=2, color=\"tab:blue\", label=\"Robot\")\n",
    "ax.legend(loc=\"upper right\")\n",
    "\n",
    "frames = range(0, t.size, 2)\n",
    "\n",
    "\n",
    "def init():\n",
    "    arm_line.set_data([], [])\n",
    "    return (arm_line,)\n",
    "\n",
    "\n",
    "def animate(i):\n",
    "    pts = arm_points(q[:, i])\n",
    "    arm_line.set_data(pts[0], pts[1])\n",
    "    return (arm_line,)\n",
    "\n",
    "\n",
    "anim = animation.FuncAnimation(\n",
    "    fig, animate, init_func=init, frames=frames, interval=50, blit=True\n",
    ")\n",
    "HTML(anim.to_jshtml())"
   ]
  }
 ],
 "metadata": {
  "kernelspec": {
   "display_name": "Python 3",
   "language": "python",
   "name": "python3"
  },
  "language_info": {
   "name": "python",
   "version": "3.x"
  }
 },
 "nbformat": 4,
 "nbformat_minor": 5
}