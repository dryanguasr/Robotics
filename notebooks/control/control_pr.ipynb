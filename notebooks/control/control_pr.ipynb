{
  "cells": [
    {
      "cell_type": "code",
      "metadata": {},
      "execution_count": null,
      "outputs": [],
      "source": [
        "import numpy as np\n",
        "import sympy as sp\n",
        "import matplotlib.pyplot as plt\n",
        "from matplotlib.animation import FuncAnimation\n",
        "from IPython.display import HTML\n",
        "\n",
        "plt.style.use(\"seaborn-v0_8\")\n"
      ]
    },
    {
      "cell_type": "markdown",
      "metadata": {},
      "source": [
        "# Control cinemático del manipulador PR planar\n",
        "\n",
        "Este cuaderno resume el flujo completo para modelar, analizar y simular el control cinemático de un robot planar con una junta prismática seguida de una rotacional.\n",
        "\n",
        "Cada sección está pensada para reutilizar las funciones y facilitar su extensión a nuevos escenarios."
      ]
    },
    {
      "cell_type": "markdown",
      "metadata": {},
      "source": [
        "## 1. Parámetros del robot y simulación"
      ]
    },
    {
      "cell_type": "code",
      "metadata": {},
      "execution_count": null,
      "outputs": [],
      "source": [
        "# Geometría del robot (L1 corresponde al offset fijo del tramo prismático)\n",
        "params_pr = {\n",
        "    'L1': 2.0,\n",
        "    'L2': 2.0\n",
        "}\n",
        "\n",
        "# Ganancias y discretización temporal\n",
        "sim_config = {\n",
        "    'kp': np.diag([1.5, 1.5]),\n",
        "    't0': 0.0,\n",
        "    'tf': 10.0,\n",
        "    'n_steps': 600\n",
        "}\n",
        "\n",
        "def time_vector(cfg):\n",
        "    t = np.linspace(cfg['t0'], cfg['tf'], cfg['n_steps'])\n",
        "    dt = t[1] - t[0]\n",
        "    return t, dt\n",
        "\n",
        "t, dt = time_vector(sim_config)\n"
      ]
    },
    {
      "cell_type": "markdown",
      "metadata": {},
      "source": [
        "## 2. Cinemática directa"
      ]
    },
    {
      "cell_type": "code",
      "metadata": {},
      "execution_count": null,
      "outputs": [],
      "source": [
        "def fkine_pr(q, params):\n",
        "    \"\"\"Cinemática directa para el robot PR.\n",
        "\n",
        "    Parameters\n",
        "    ----------\n",
        "    q : array-like, shape (2,)\n",
        "        q[0] desplazamiento prismático, q[1] ángulo rotacional.\n",
        "    params : dict con claves 'L1' y 'L2'\n",
        "\n",
        "    Returns\n",
        "    -------\n",
        "    np.ndarray, shape (2,)\n",
        "        Coordenadas cartesianas del efector final (x, y).\n",
        "    \"\"\"\n",
        "    q1, q2 = q\n",
        "    L1, L2 = params['L1'], params['L2']\n",
        "    x = L1 + q1 + L2 * np.cos(q2)\n",
        "    y = L2 * np.sin(q2)\n",
        "    return np.array([x, y])\n",
        "\n",
        "# Ejemplo numérico\n",
        "fkine_pr(np.array([0.2, np.pi/4]), params_pr)\n"
      ]
    },
    {
      "cell_type": "markdown",
      "metadata": {},
      "source": [
        "## 3. Jacobiano analítico"
      ]
    },
    {
      "cell_type": "code",
      "metadata": {},
      "execution_count": null,
      "outputs": [],
      "source": [
        "def jacobian_pr(q, params):\n",
        "    q1, q2 = q\n",
        "    L2 = params['L2']\n",
        "    return np.array([\n",
        "        [1.0, -L2 * np.sin(q2)],\n",
        "        [0.0,  L2 * np.cos(q2)]\n",
        "    ])\n",
        "\n",
        "jacobian_pr(np.array([0.0, 0.0]), params_pr)\n"
      ]
    },
    {
      "cell_type": "markdown",
      "metadata": {},
      "source": [
        "### Derivación simbólica"
      ]
    },
    {
      "cell_type": "code",
      "metadata": {},
      "execution_count": null,
      "outputs": [],
      "source": [
        "q1_s, q2_s, L1_s, L2_s = sp.symbols('q1 q2 L1 L2')\n",
        "px = L1_s + q1_s + L2_s * sp.cos(q2_s)\n",
        "py = L2_s * sp.sin(q2_s)\n",
        "f_pr = sp.Matrix([px, py])\n",
        "J_pr = f_pr.jacobian([q1_s, q2_s])\n",
        "sp.simplify(J_pr)\n"
      ]
    },
    {
      "cell_type": "markdown",
      "metadata": {},
      "source": [
        "## 4. Trayectoria de referencia"
      ]
    },
    {
      "cell_type": "code",
      "metadata": {},
      "execution_count": null,
      "outputs": [],
      "source": [
        "def circular_task_reference(radius=1.0, center=(3.5, 0.0), omega=2*np.pi, t=None):\n",
        "    if t is None:\n",
        "        raise ValueError('Se requiere vector de tiempo')\n",
        "    cx, cy = center\n",
        "    xd = cx + radius * np.cos(omega * t)\n",
        "    yd = cy + radius * np.sin(omega * t)\n",
        "    xdp = -radius * omega * np.sin(omega * t)\n",
        "    ydp =  radius * omega * np.cos(omega * t)\n",
        "    return np.vstack((xd, yd)), np.vstack((xdp, ydp))\n",
        "\n",
        "Xd, Vd = circular_task_reference(radius=1.0, center=(3.5, 0.0), omega=2*np.pi, t=t)\n",
        "Xd[:, :3]\n"
      ]
    },
    {
      "cell_type": "markdown",
      "metadata": {},
      "source": [
        "## 5. Control cinemático"
      ]
    },
    {
      "cell_type": "code",
      "metadata": {},
      "execution_count": null,
      "outputs": [],
      "source": [
        "def kinematic_control_step(q, params, xd, xdp, kp):\n",
        "    x = fkine_pr(q, params)\n",
        "    J = jacobian_pr(q, params)\n",
        "    error = xd - x\n",
        "    omega = np.linalg.solve(J, xdp + kp @ error)\n",
        "    return omega, x, error\n",
        "\n",
        "_demo_q = np.array([0.0, 0.0])\n",
        "omega_demo, x_demo, e_demo = kinematic_control_step(\n",
        "    _demo_q, params_pr, Xd[:, 0], Vd[:, 0], sim_config['kp'])\n",
        "omega_demo, x_demo, e_demo\n"
      ]
    },
    {
      "cell_type": "markdown",
      "metadata": {},
      "source": [
        "## 6. Simulación discreta"
      ]
    },
    {
      "cell_type": "code",
      "metadata": {},
      "execution_count": null,
      "outputs": [],
      "source": [
        "def simulate_pr_control(q0, params, Xd, Vd, t, kp):\n",
        "    n = t.size\n",
        "    dt = t[1] - t[0]\n",
        "    q = np.zeros((2, n))\n",
        "    X = np.zeros((2, n))\n",
        "    q[:, 0] = q0\n",
        "    X[:, 0] = fkine_pr(q0, params)\n",
        "    for k in range(1, n):\n",
        "        omega, _, _ = kinematic_control_step(q[:, k-1], params, Xd[:, k-1], Vd[:, k-1], kp)\n",
        "        q[:, k] = q[:, k-1] + dt * omega\n",
        "        X[:, k] = fkine_pr(q[:, k], params)\n",
        "    return q, X\n",
        "\n",
        "q0 = np.array([0.0, 0.0])\n",
        "theta_pr, X_pr = simulate_pr_control(q0, params_pr, Xd, Vd, t, sim_config['kp'])\n",
        "X_pr[:, :3]\n"
      ]
    },
    {
      "cell_type": "markdown",
      "metadata": {},
      "source": [
        "## 7. Visualización"
      ]
    },
    {
      "cell_type": "code",
      "metadata": {},
      "execution_count": null,
      "outputs": [],
      "source": [
        "def plot_tracking(X, Xd, t):\n",
        "    fig, ax = plt.subplots(1, 2, figsize=(12, 4))\n",
        "\n",
        "    ax[0].plot(Xd[0], Xd[1], '--', label='Deseada')\n",
        "    ax[0].plot(X[0], X[1], label='Seguimiento')\n",
        "    ax[0].set_aspect('equal', adjustable='box')\n",
        "    ax[0].set_xlabel('x [m]')\n",
        "    ax[0].set_ylabel('y [m]')\n",
        "    ax[0].legend()\n",
        "    ax[0].set_title('Trayectorias cartesianas')\n",
        "\n",
        "    ax[1].plot(t, Xd[0] - X[0], label='Error en x')\n",
        "    ax[1].plot(t, Xd[1] - X[1], label='Error en y')\n",
        "    ax[1].set_xlabel('Tiempo [s]')\n",
        "    ax[1].set_ylabel('Error [m]')\n",
        "    ax[1].legend()\n",
        "    ax[1].set_title('Errores de seguimiento')\n",
        "\n",
        "    fig.tight_layout()\n",
        "    return fig\n",
        "\n",
        "plot_tracking(X_pr, Xd, t)\n"
      ]
    },
    {
      "cell_type": "markdown",
      "metadata": {},
      "source": [
        "### Animación"
      ]
    },
    {
      "cell_type": "code",
      "metadata": {},
      "execution_count": null,
      "outputs": [],
      "source": [
        "def animate_pr(theta, X, Xd, t, params, axis_len=0.5, trail=True, skip=2):\n",
        "    L1, L2 = params['L1'], params['L2']\n",
        "    fig, ax = plt.subplots()\n",
        "    ax.set_aspect('equal', adjustable='box')\n",
        "    margin = 0.6\n",
        "    x_all = np.concatenate([X[0], Xd[0], np.array([0.0])])\n",
        "    y_all = np.concatenate([X[1], Xd[1], np.array([0.0])])\n",
        "    ax.set_xlim(np.min(x_all) - margin, np.max(x_all) + margin)\n",
        "    ax.set_ylim(np.min(y_all) - margin, np.max(y_all) + margin)\n",
        "    ax.set_xlabel('x [m]')\n",
        "    ax.set_ylabel('y [m]')\n",
        "    ax.set_title('Robot PR planar')\n",
        "\n",
        "    desired_line, = ax.plot(Xd[0], Xd[1], '--', linewidth=1.2, label='Trayectoria deseada')\n",
        "    trail_line,   = ax.plot([], [], ':', linewidth=1.5, label='Rastro')\n",
        "    link1_line, = ax.plot([], [], 'k-', linewidth=3)\n",
        "    link2_line, = ax.plot([], [], 'k-', linewidth=3)\n",
        "    ee_point,   = ax.plot([], [], 'o', markersize=5)\n",
        "\n",
        "    f0_x, = ax.plot([], [], color='r', linewidth=2)\n",
        "    f0_y, = ax.plot([], [], color='g', linewidth=2)\n",
        "    f1_x, = ax.plot([], [], color='r', linewidth=2)\n",
        "    f1_y, = ax.plot([], [], color='g', linewidth=2)\n",
        "    f2_x, = ax.plot([], [], color='r', linewidth=2)\n",
        "    f2_y, = ax.plot([], [], color='g', linewidth=2)\n",
        "    base_dot,  = ax.plot([], [], 'o', color='b')\n",
        "    joint_dot, = ax.plot([], [], 'o', color='b')\n",
        "    ee_dot,    = ax.plot([], [], 'o', color='b')\n",
        "    time_text = ax.text(0.02, 0.95, '', transform=ax.transAxes)\n",
        "    ax.legend(loc='upper right')\n",
        "\n",
        "    def frame_axes(origin, angle):\n",
        "        c, s = np.cos(angle), np.sin(angle)\n",
        "        p = np.array(origin)\n",
        "        x_axis = p + axis_len * np.array([c, s])\n",
        "        y_axis = p + axis_len * np.array([-s, c])\n",
        "        return p, x_axis, y_axis\n",
        "\n",
        "    def init():\n",
        "        trail_line.set_data([], [])\n",
        "        for ln in (link1_line, link2_line, ee_point,\n",
        "                   f0_x, f0_y, f1_x, f1_y, f2_x, f2_y):\n",
        "            ln.set_data([], [])\n",
        "        for dot in (base_dot, joint_dot, ee_dot):\n",
        "            dot.set_data([], [])\n",
        "        time_text.set_text('')\n",
        "        return (\n",
        "            link1_line, link2_line, ee_point, trail_line,\n",
        "            f0_x, f0_y, f1_x, f1_y, f2_x, f2_y,\n",
        "            base_dot, joint_dot, ee_dot, time_text\n",
        "        )\n",
        "\n",
        "    def update(frame):\n",
        "        idx = min(frame * skip, t.size - 1)\n",
        "        q1, q2 = theta[:, idx]\n",
        "        O0 = np.array([0.0, 0.0])\n",
        "        O1 = np.array([L1 + q1, 0.0])\n",
        "        O2 = np.array([L1 + q1 + L2 * np.cos(q2), L2 * np.sin(q2)])\n",
        "\n",
        "        link1_line.set_data([O0[0], O1[0]], [O0[1], O1[1]])\n",
        "        link2_line.set_data([O1[0], O2[0]], [O1[1], O2[1]])\n",
        "        ee_point.set_data([O2[0]], [O2[1]])\n",
        "\n",
        "        if trail:\n",
        "            trail_line.set_data(X[0, :idx+1], X[1, :idx+1])\n",
        "\n",
        "        p0, p0x, p0y = frame_axes(O0, 0.0)\n",
        "        f0_x.set_data([p0[0], p0x[0]], [p0[1], p0x[1]])\n",
        "        f0_y.set_data([p0[0], p0y[0]], [p0[1], p0y[1]])\n",
        "        base_dot.set_data([O0[0]], [O0[1]])\n",
        "\n",
        "        p1, p1x, p1y = frame_axes(O1, 0.0)\n",
        "        f1_x.set_data([p1[0], p1x[0]], [p1[1], p1x[1]])\n",
        "        f1_y.set_data([p1[0], p1y[0]], [p1[1], p1y[1]])\n",
        "        joint_dot.set_data([O1[0]], [O1[1]])\n",
        "\n",
        "        p2, p2x, p2y = frame_axes(O2, q2)\n",
        "        f2_x.set_data([p2[0], p2x[0]], [p2[1], p2x[1]])\n",
        "        f2_y.set_data([p2[0], p2y[0]], [p2[1], p2y[1]])\n",
        "        ee_dot.set_data([O2[0]], [O2[1]])\n",
        "\n",
        "        time_text.set_text(f't = {t[idx]:.2f} s')\n",
        "        return (\n",
        "            link1_line, link2_line, ee_point, trail_line,\n",
        "            f0_x, f0_y, f1_x, f1_y, f2_x, f2_y,\n",
        "            base_dot, joint_dot, ee_dot, time_text\n",
        "        )\n",
        "\n",
        "    interval_ms = max(10, int(dt * 1000))\n",
        "    frames = int(np.ceil(t.size / skip))\n",
        "    anim = FuncAnimation(fig, update, frames=frames, init_func=init,\n",
        "                         blit=True, interval=interval_ms)\n",
        "    plt.close(fig)\n",
        "    return anim\n",
        "\n",
        "anim_pr = animate_pr(theta_pr, X_pr, Xd, t, params_pr, axis_len=0.5, trail=True, skip=2)\n",
        "HTML(anim_pr.to_jshtml())\n"
      ]
    }
  ],
  "metadata": {
    "kernelspec": {
      "display_name": "Python 3",
      "language": "python",
      "name": "python3"
    },
    "language_info": {
      "name": "python",
      "version": "3.10",
      "mimetype": "text/x-python",
      "codemirror_mode": {
        "name": "ipython",
        "version": 3
      },
      "pygments_lexer": "ipython3",
      "nbconvert_exporter": "python"
    }
  },
  "nbformat": 4,
  "nbformat_minor": 5
}