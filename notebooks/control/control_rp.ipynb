{
 "cells": [
  {
   "cell_type": "code",
   "metadata": {},
   "execution_count": null,
   "outputs": [],
   "source": [
    "import numpy as np\n",
    "import sympy as sp\n",
    "import matplotlib.pyplot as plt\n",
    "from matplotlib.animation import FuncAnimation\n",
    "from IPython.display import HTML\n",
    "from utils import circular_task_reference, plot_tracking, time_vector\n",
    "\n",
    "plt.style.use(\"seaborn-v0_8\")\n"
   ]
  },
  {
   "cell_type": "markdown",
   "metadata": {},
   "source": [
    "# Control cinemático del manipulador RP planar\n",
    "\n",
    "El objetivo es reutilizar la misma estructura del caso PR adaptándola al robot con primera articulación rotacional y segunda prismática.\n",
    "\n",
    "Incluimos derivaciones simbólicas y animación para visualizar la ejecución."
   ]
  },
  {
   "cell_type": "markdown",
   "metadata": {},
   "source": [
    "## 1. Parámetros"
   ]
  },
  {
   "cell_type": "code",
   "metadata": {},
   "execution_count": null,
   "outputs": [],
   "source": [
    "params_rp = {\n",
    "    'L1': 2.0\n",
    "}\n",
    "\n",
    "sim_config_rp = {\n",
    "    'kp': np.diag([1.2, 1.2]),\n",
    "    't0': 0.0,\n",
    "    'tf': 10.0,\n",
    "    'n_steps': 600\n",
    "}\n",
    "\n",
    "t_rp, dt_rp = time_vector(sim_config_rp)\n"
   ]
  },
  {
   "cell_type": "markdown",
   "metadata": {},
   "source": [
    "## 2. Cinemática directa"
   ]
  },
  {
   "cell_type": "code",
   "metadata": {},
   "execution_count": null,
   "outputs": [],
   "source": [
    "def fkine_rp(q, params):\n",
    "    q1, q2 = q\n",
    "    L1 = params['L1']\n",
    "    x = (L1 + q2) * np.cos(q1)\n",
    "    y = (L1 + q2) * np.sin(q1)\n",
    "    return np.array([x, y])\n",
    "\n",
    "fkine_rp(np.array([0.0, 0.2]), params_rp)\n"
   ]
  },
  {
   "cell_type": "markdown",
   "metadata": {},
   "source": [
    "## 3. Jacobiano"
   ]
  },
  {
   "cell_type": "code",
   "metadata": {},
   "execution_count": null,
   "outputs": [],
   "source": [
    "def jacobian_rp(q, params):\n",
    "    q1, q2 = q\n",
    "    L1 = params['L1']\n",
    "    r = L1 + q2\n",
    "    return np.array([\n",
    "        [-r * np.sin(q1), np.cos(q1)],\n",
    "        [ r * np.cos(q1), np.sin(q1)]\n",
    "    ])\n",
    "\n",
    "jacobian_rp(np.array([0.0, 0.0]), params_rp)\n"
   ]
  },
  {
   "cell_type": "markdown",
   "metadata": {},
   "source": [
    "### Derivación simbólica"
   ]
  },
  {
   "cell_type": "code",
   "metadata": {},
   "execution_count": null,
   "outputs": [],
   "source": [
    "q1_r, q2_r, L1_r = sp.symbols('q1 q2 L1')\n",
    "fx_r = (L1_r + q2_r) * sp.cos(q1_r)\n",
    "fy_r = (L1_r + q2_r) * sp.sin(q1_r)\n",
    "f_rp = sp.Matrix([fx_r, fy_r])\n",
    "J_rp = f_rp.jacobian([q1_r, q2_r])\n",
    "sp.simplify(J_rp)\n"
   ]
  },
  {
   "cell_type": "markdown",
   "metadata": {},
   "source": [
    "## 4. Trayectoria circular"
   ]
  },
  {
   "cell_type": "code",
   "metadata": {},
   "execution_count": null,
   "outputs": [],
   "source": [
    "Xd_rp, Vd_rp = circular_task_reference(radius=1.2, center=(0.0, 2.5), omega=2*np.pi, t=t_rp)\n",
    "Xd_rp[:, :3]\n"
   ]
  },
  {
   "cell_type": "markdown",
   "metadata": {},
   "source": [
    "## 5. Control cinemático"
   ]
  },
  {
   "cell_type": "code",
   "metadata": {},
   "execution_count": null,
   "outputs": [],
   "source": [
    "def kinematic_control_step_rp(q, params, xd, xdp, kp):\n",
    "    x = fkine_rp(q, params)\n",
    "    J = jacobian_rp(q, params)\n",
    "    omega = np.linalg.solve(J, xdp + kp @ (xd - x))\n",
    "    return omega, x\n",
    "\n",
    "kinematic_control_step_rp(np.array([0.0, 0.0]), params_rp, Xd_rp[:, 0], Vd_rp[:, 0], sim_config_rp['kp'])\n"
   ]
  },
  {
   "cell_type": "markdown",
   "metadata": {},
   "source": [
    "## 6. Simulación"
   ]
  },
  {
   "cell_type": "code",
   "metadata": {},
   "execution_count": null,
   "outputs": [],
   "source": [
    "def simulate_rp_control(q0, params, Xd, Vd, t, kp):\n",
    "    n = t.size\n",
    "    dt = t[1] - t[0]\n",
    "    q = np.zeros((2, n))\n",
    "    X = np.zeros((2, n))\n",
    "    q[:, 0] = q0\n",
    "    X[:, 0] = fkine_rp(q0, params)\n",
    "    for k in range(1, n):\n",
    "        omega, _ = kinematic_control_step_rp(q[:, k-1], params, Xd[:, k-1], Vd[:, k-1], kp)\n",
    "        q[:, k] = q[:, k-1] + dt * omega\n",
    "        X[:, k] = fkine_rp(q[:, k], params)\n",
    "    return q, X\n",
    "\n",
    "q0_rp = np.array([0.0, 0.0])\n",
    "theta_rp, X_rp = simulate_rp_control(q0_rp, params_rp, Xd_rp, Vd_rp, t_rp, sim_config_rp['kp'])\n",
    "X_rp[:, :3]\n"
   ]
  },
  {
   "cell_type": "code",
   "execution_count": null,
   "metadata": {},
   "outputs": [],
   "source": [
    "error_rp = np.linalg.norm(Xd_rp - X_rp, axis=0)\n",
    "max_error_rp = float(np.max(error_rp))\n",
    "print(f\"Error máximo de seguimiento: {max_error_rp:.4f} m\")\n",
    "assert max_error_rp < 0.5\n"
   ]
  },
  {
   "cell_type": "markdown",
   "metadata": {},
   "source": [
    "## 7. Gráficas y animación"
   ]
  },
  {
   "cell_type": "code",
   "metadata": {},
   "execution_count": null,
   "outputs": [],
   "source": [
    "plot_tracking(X_rp, Xd_rp, t_rp)\n"
   ]
  },
  {
   "cell_type": "code",
   "metadata": {},
   "execution_count": null,
   "outputs": [],
   "source": [
    "def animate_rp(theta, X, Xd, t, params, axis_len=0.5, trail=True, skip=2):\n",
    "    L1 = params['L1']\n",
    "    fig, ax = plt.subplots()\n",
    "    ax.set_aspect('equal', adjustable='box')\n",
    "    margin = 0.6\n",
    "    x_all = np.concatenate([X[0], Xd[0], np.array([0.0])])\n",
    "    y_all = np.concatenate([X[1], Xd[1], np.array([0.0])])\n",
    "    ax.set_xlim(np.min(x_all) - margin, np.max(x_all) + margin)\n",
    "    ax.set_ylim(np.min(y_all) - margin, np.max(y_all) + margin)\n",
    "    ax.set_xlabel('x [m]')\n",
    "    ax.set_ylabel('y [m]')\n",
    "    ax.set_title('Robot RP planar')\n",
    "\n",
    "    desired_line, = ax.plot(Xd[0], Xd[1], '--', linewidth=1.2, label='Trayectoria deseada')\n",
    "    trail_line,   = ax.plot([], [], ':', linewidth=1.5, label='Rastro')\n",
    "    link1_line, = ax.plot([], [], 'k-', linewidth=3)\n",
    "    link2_line, = ax.plot([], [], 'k-', linewidth=3)\n",
    "    ee_point,   = ax.plot([], [], 'o', markersize=5)\n",
    "\n",
    "    f0_x, = ax.plot([], [], color='r', linewidth=2)\n",
    "    f0_y, = ax.plot([], [], color='g', linewidth=2)\n",
    "    f1_x, = ax.plot([], [], color='r', linewidth=2)\n",
    "    f1_y, = ax.plot([], [], color='g', linewidth=2)\n",
    "    f2_x, = ax.plot([], [], color='r', linewidth=2)\n",
    "    f2_y, = ax.plot([], [], color='g', linewidth=2)\n",
    "    base_dot,  = ax.plot([], [], 'o', color='b')\n",
    "    joint_dot, = ax.plot([], [], 'o', color='b')\n",
    "    ee_dot,    = ax.plot([], [], 'o', color='b')\n",
    "    time_text = ax.text(0.02, 0.95, '', transform=ax.transAxes)\n",
    "    ax.legend(loc='upper right')\n",
    "\n",
    "    def frame_axes(origin, angle):\n",
    "        c, s = np.cos(angle), np.sin(angle)\n",
    "        p = np.array(origin)\n",
    "        return p, p + axis_len * np.array([c, s]), p + axis_len * np.array([-s, c])\n",
    "\n",
    "    def init():\n",
    "        trail_line.set_data([], [])\n",
    "        for ln in (link1_line, link2_line, ee_point,\n",
    "                   f0_x, f0_y, f1_x, f1_y, f2_x, f2_y):\n",
    "            ln.set_data([], [])\n",
    "        for dot in (base_dot, joint_dot, ee_dot):\n",
    "            dot.set_data([], [])\n",
    "        time_text.set_text('')\n",
    "        return (\n",
    "            link1_line, link2_line, ee_point, trail_line,\n",
    "            f0_x, f0_y, f1_x, f1_y, f2_x, f2_y,\n",
    "            base_dot, joint_dot, ee_dot, time_text\n",
    "        )\n",
    "\n",
    "    def update(frame):\n",
    "        idx = min(frame * skip, t.size - 1)\n",
    "        q1, q2 = theta[:, idx]\n",
    "        O0 = np.array([0.0, 0.0])\n",
    "        O1 = np.array([L1 * np.cos(q1), L1 * np.sin(q1)])\n",
    "        O2 = np.array([(L1 + q2) * np.cos(q1), (L1 + q2) * np.sin(q1)])\n",
    "\n",
    "        link1_line.set_data([O0[0], O1[0]], [O0[1], O1[1]])\n",
    "        link2_line.set_data([O1[0], O2[0]], [O1[1], O2[1]])\n",
    "        ee_point.set_data([O2[0]], [O2[1]])\n",
    "\n",
    "        if trail:\n",
    "            trail_line.set_data(X[0, :idx+1], X[1, :idx+1])\n",
    "\n",
    "        p0, p0x, p0y = frame_axes(O0, 0.0)\n",
    "        f0_x.set_data([p0[0], p0x[0]], [p0[1], p0x[1]])\n",
    "        f0_y.set_data([p0[0], p0y[0]], [p0[1], p0y[1]])\n",
    "        base_dot.set_data([O0[0]], [O0[1]])\n",
    "\n",
    "        p1, p1x, p1y = frame_axes(O1, q1)\n",
    "        f1_x.set_data([p1[0], p1x[0]], [p1[1], p1x[1]])\n",
    "        f1_y.set_data([p1[0], p1y[0]], [p1[1], p1y[1]])\n",
    "        joint_dot.set_data([O1[0]], [O1[1]])\n",
    "\n",
    "        p2, p2x, p2y = frame_axes(O2, q1)\n",
    "        f2_x.set_data([p2[0], p2x[0]], [p2[1], p2x[1]])\n",
    "        f2_y.set_data([p2[0], p2y[0]], [p2[1], p2y[1]])\n",
    "        ee_dot.set_data([O2[0]], [O2[1]])\n",
    "\n",
    "        time_text.set_text(f't = {t[idx]:.2f} s')\n",
    "        return (\n",
    "            link1_line, link2_line, ee_point, trail_line,\n",
    "            f0_x, f0_y, f1_x, f1_y, f2_x, f2_y,\n",
    "            base_dot, joint_dot, ee_dot, time_text\n",
    "        )\n",
    "\n",
    "    interval_ms = max(10, int((t[1] - t[0]) * 1000))\n",
    "    frames = int(np.ceil(t.size / skip))\n",
    "    anim = FuncAnimation(fig, update, frames=frames, init_func=init,\n",
    "                         blit=True, interval=interval_ms)\n",
    "    plt.close(fig)\n",
    "    return anim\n",
    "\n",
    "anim_rp = animate_rp(theta_rp, X_rp, Xd_rp, t_rp, params_rp, axis_len=0.5, trail=True, skip=2)\n",
    "HTML(anim_rp.to_jshtml())\n"
   ]
  }
 ],
 "metadata": {
  "kernelspec": {
   "display_name": "Python 3",
   "language": "python",
   "name": "python3"
  },
  "language_info": {
   "name": "python",
   "version": "3.10",
   "mimetype": "text/x-python",
   "codemirror_mode": {
    "name": "ipython",
    "version": 3
   },
   "pygments_lexer": "ipython3",
   "nbconvert_exporter": "python"
  }
 },
 "nbformat": 4,
 "nbformat_minor": 5
  "cells": [
    {
      "cell_type": "code",
      "metadata": {},
      "execution_count": null,
      "outputs": [],
      "source": [
        "import numpy as np\n",
        "import sympy as sp\n",
        "import matplotlib.pyplot as plt\n",
        "from matplotlib.animation import FuncAnimation\n",
        "from IPython.display import HTML\n",
        "\n",
        "plt.style.use(\"seaborn-v0_8\")\n"
      ]
    },
    {
      "cell_type": "markdown",
      "metadata": {},
      "source": [
        "# Control cinemático del manipulador RP planar\n",
        "\n",
        "El objetivo es reutilizar la misma estructura del caso PR adaptándola al robot con primera articulación rotacional y segunda prismática.\n",
        "\n",
        "Incluimos derivaciones simbólicas y animación para visualizar la ejecución."
      ]
    },
    {
      "cell_type": "markdown",
      "metadata": {},
      "source": [
        "## 1. Parámetros"
      ]
    },
    {
      "cell_type": "code",
      "metadata": {},
      "execution_count": null,
      "outputs": [],
      "source": [
        "params_rp = {\n",
        "    'L1': 2.0\n",
        "}\n",
        "\n",
        "sim_config_rp = {\n",
        "    'kp': np.diag([1.2, 1.2]),\n",
        "    't0': 0.0,\n",
        "    'tf': 10.0,\n",
        "    'n_steps': 600\n",
        "}\n",
        "\n",
        "t_rp, dt_rp = time_vector(sim_config_rp)\n"
      ]
    },
    {
      "cell_type": "markdown",
      "metadata": {},
      "source": [
        "## 2. Cinemática directa"
      ]
    },
    {
      "cell_type": "code",
      "metadata": {},
      "execution_count": null,
      "outputs": [],
      "source": [
        "def fkine_rp(q, params):\n",
        "    q1, q2 = q\n",
        "    L1 = params['L1']\n",
        "    x = (L1 + q2) * np.cos(q1)\n",
        "    y = (L1 + q2) * np.sin(q1)\n",
        "    return np.array([x, y])\n",
        "\n",
        "fkine_rp(np.array([0.0, 0.2]), params_rp)\n"
      ]
    },
    {
      "cell_type": "markdown",
      "metadata": {},
      "source": [
        "## 3. Jacobiano"
      ]
    },
    {
      "cell_type": "code",
      "metadata": {},
      "execution_count": null,
      "outputs": [],
      "source": [
        "def jacobian_rp(q, params):\n",
        "    q1, q2 = q\n",
        "    L1 = params['L1']\n",
        "    r = L1 + q2\n",
        "    return np.array([\n",
        "        [-r * np.sin(q1), np.cos(q1)],\n",
        "        [ r * np.cos(q1), np.sin(q1)]\n",
        "    ])\n",
        "\n",
        "jacobian_rp(np.array([0.0, 0.0]), params_rp)\n"
      ]
    },
    {
      "cell_type": "markdown",
      "metadata": {},
      "source": [
        "### Derivación simbólica"
      ]
    },
    {
      "cell_type": "code",
      "metadata": {},
      "execution_count": null,
      "outputs": [],
      "source": [
        "q1_r, q2_r, L1_r = sp.symbols('q1 q2 L1')\n",
        "fx_r = (L1_r + q2_r) * sp.cos(q1_r)\n",
        "fy_r = (L1_r + q2_r) * sp.sin(q1_r)\n",
        "f_rp = sp.Matrix([fx_r, fy_r])\n",
        "J_rp = f_rp.jacobian([q1_r, q2_r])\n",
        "sp.simplify(J_rp)\n"
      ]
    },
    {
      "cell_type": "markdown",
      "metadata": {},
      "source": [
        "## 4. Trayectoria circular"
      ]
    },
    {
      "cell_type": "code",
      "metadata": {},
      "execution_count": null,
      "outputs": [],
      "source": [
        "Xd_rp, Vd_rp = circular_task_reference(radius=1.2, center=(0.0, 2.5), omega=2*np.pi, t=t_rp)\n",
        "Xd_rp[:, :3]\n"
      ]
    },
    {
      "cell_type": "markdown",
      "metadata": {},
      "source": [
        "## 5. Control cinemático"
      ]
    },
    {
      "cell_type": "code",
      "metadata": {},
      "execution_count": null,
      "outputs": [],
      "source": [
        "def kinematic_control_step_rp(q, params, xd, xdp, kp):\n",
        "    x = fkine_rp(q, params)\n",
        "    J = jacobian_rp(q, params)\n",
        "    omega = np.linalg.solve(J, xdp + kp @ (xd - x))\n",
        "    return omega, x\n",
        "\n",
        "kinematic_control_step_rp(np.array([0.0, 0.0]), params_rp, Xd_rp[:, 0], Vd_rp[:, 0], sim_config_rp['kp'])\n"
      ]
    },
    {
      "cell_type": "markdown",
      "metadata": {},
      "source": [
        "## 6. Simulación"
      ]
    },
    {
      "cell_type": "code",
      "metadata": {},
      "execution_count": null,
      "outputs": [],
      "source": [
        "def simulate_rp_control(q0, params, Xd, Vd, t, kp):\n",
        "    n = t.size\n",
        "    dt = t[1] - t[0]\n",
        "    q = np.zeros((2, n))\n",
        "    X = np.zeros((2, n))\n",
        "    q[:, 0] = q0\n",
        "    X[:, 0] = fkine_rp(q0, params)\n",
        "    for k in range(1, n):\n",
        "        omega, _ = kinematic_control_step_rp(q[:, k-1], params, Xd[:, k-1], Vd[:, k-1], kp)\n",
        "        q[:, k] = q[:, k-1] + dt * omega\n",
        "        X[:, k] = fkine_rp(q[:, k], params)\n",
        "    return q, X\n",
        "\n",
        "q0_rp = np.array([0.0, 0.0])\n",
        "theta_rp, X_rp = simulate_rp_control(q0_rp, params_rp, Xd_rp, Vd_rp, t_rp, sim_config_rp['kp'])\n",
        "X_rp[:, :3]\n"
      ]
    },
    {
      "cell_type": "markdown",
      "metadata": {},
      "source": [
        "## 7. Gráficas y animación"
      ]
    },
    {
      "cell_type": "code",
      "metadata": {},
      "execution_count": null,
      "outputs": [],
      "source": [
        "plot_tracking(X_rp, Xd_rp, t_rp)\n"
      ]
    },
    {
      "cell_type": "code",
      "metadata": {},
      "execution_count": null,
      "outputs": [],
      "source": [
        "def animate_rp(theta, X, Xd, t, params, axis_len=0.5, trail=True, skip=2):\n",
        "    L1 = params['L1']\n",
        "    fig, ax = plt.subplots()\n",
        "    ax.set_aspect('equal', adjustable='box')\n",
        "    margin = 0.6\n",
        "    x_all = np.concatenate([X[0], Xd[0], np.array([0.0])])\n",
        "    y_all = np.concatenate([X[1], Xd[1], np.array([0.0])])\n",
        "    ax.set_xlim(np.min(x_all) - margin, np.max(x_all) + margin)\n",
        "    ax.set_ylim(np.min(y_all) - margin, np.max(y_all) + margin)\n",
        "    ax.set_xlabel('x [m]')\n",
        "    ax.set_ylabel('y [m]')\n",
        "    ax.set_title('Robot RP planar')\n",
        "\n",
        "    desired_line, = ax.plot(Xd[0], Xd[1], '--', linewidth=1.2, label='Trayectoria deseada')\n",
        "    trail_line,   = ax.plot([], [], ':', linewidth=1.5, label='Rastro')\n",
        "    link1_line, = ax.plot([], [], 'k-', linewidth=3)\n",
        "    link2_line, = ax.plot([], [], 'k-', linewidth=3)\n",
        "    ee_point,   = ax.plot([], [], 'o', markersize=5)\n",
        "\n",
        "    f0_x, = ax.plot([], [], color='r', linewidth=2)\n",
        "    f0_y, = ax.plot([], [], color='g', linewidth=2)\n",
        "    f1_x, = ax.plot([], [], color='r', linewidth=2)\n",
        "    f1_y, = ax.plot([], [], color='g', linewidth=2)\n",
        "    f2_x, = ax.plot([], [], color='r', linewidth=2)\n",
        "    f2_y, = ax.plot([], [], color='g', linewidth=2)\n",
        "    base_dot,  = ax.plot([], [], 'o', color='b')\n",
        "    joint_dot, = ax.plot([], [], 'o', color='b')\n",
        "    ee_dot,    = ax.plot([], [], 'o', color='b')\n",
        "    time_text = ax.text(0.02, 0.95, '', transform=ax.transAxes)\n",
        "    ax.legend(loc='upper right')\n",
        "\n",
        "    def frame_axes(origin, angle):\n",
        "        c, s = np.cos(angle), np.sin(angle)\n",
        "        p = np.array(origin)\n",
        "        return p, p + axis_len * np.array([c, s]), p + axis_len * np.array([-s, c])\n",
        "\n",
        "    def init():\n",
        "        trail_line.set_data([], [])\n",
        "        for ln in (link1_line, link2_line, ee_point,\n",
        "                   f0_x, f0_y, f1_x, f1_y, f2_x, f2_y):\n",
        "            ln.set_data([], [])\n",
        "        for dot in (base_dot, joint_dot, ee_dot):\n",
        "            dot.set_data([], [])\n",
        "        time_text.set_text('')\n",
        "        return (\n",
        "            link1_line, link2_line, ee_point, trail_line,\n",
        "            f0_x, f0_y, f1_x, f1_y, f2_x, f2_y,\n",
        "            base_dot, joint_dot, ee_dot, time_text\n",
        "        )\n",
        "\n",
        "    def update(frame):\n",
        "        idx = min(frame * skip, t.size - 1)\n",
        "        q1, q2 = theta[:, idx]\n",
        "        O0 = np.array([0.0, 0.0])\n",
        "        O1 = np.array([L1 * np.cos(q1), L1 * np.sin(q1)])\n",
        "        O2 = np.array([(L1 + q2) * np.cos(q1), (L1 + q2) * np.sin(q1)])\n",
        "\n",
        "        link1_line.set_data([O0[0], O1[0]], [O0[1], O1[1]])\n",
        "        link2_line.set_data([O1[0], O2[0]], [O1[1], O2[1]])\n",
        "        ee_point.set_data([O2[0]], [O2[1]])\n",
        "\n",
        "        if trail:\n",
        "            trail_line.set_data(X[0, :idx+1], X[1, :idx+1])\n",
        "\n",
        "        p0, p0x, p0y = frame_axes(O0, 0.0)\n",
        "        f0_x.set_data([p0[0], p0x[0]], [p0[1], p0x[1]])\n",
        "        f0_y.set_data([p0[0], p0y[0]], [p0[1], p0y[1]])\n",
        "        base_dot.set_data([O0[0]], [O0[1]])\n",
        "\n",
        "        p1, p1x, p1y = frame_axes(O1, q1)\n",
        "        f1_x.set_data([p1[0], p1x[0]], [p1[1], p1x[1]])\n",
        "        f1_y.set_data([p1[0], p1y[0]], [p1[1], p1y[1]])\n",
        "        joint_dot.set_data([O1[0]], [O1[1]])\n",
        "\n",
        "        p2, p2x, p2y = frame_axes(O2, q1)\n",
        "        f2_x.set_data([p2[0], p2x[0]], [p2[1], p2x[1]])\n",
        "        f2_y.set_data([p2[0], p2y[0]], [p2[1], p2y[1]])\n",
        "        ee_dot.set_data([O2[0]], [O2[1]])\n",
        "\n",
        "        time_text.set_text(f't = {t[idx]:.2f} s')\n",
        "        return (\n",
        "            link1_line, link2_line, ee_point, trail_line,\n",
        "            f0_x, f0_y, f1_x, f1_y, f2_x, f2_y,\n",
        "            base_dot, joint_dot, ee_dot, time_text\n",
        "        )\n",
        "\n",
        "    interval_ms = max(10, int((t[1] - t[0]) * 1000))\n",
        "    frames = int(np.ceil(t.size / skip))\n",
        "    anim = FuncAnimation(fig, update, frames=frames, init_func=init,\n",
        "                         blit=True, interval=interval_ms)\n",
        "    plt.close(fig)\n",
        "    return anim\n",
        "\n",
        "anim_rp = animate_rp(theta_rp, X_rp, Xd_rp, t_rp, params_rp, axis_len=0.5, trail=True, skip=2)\n",
        "HTML(anim_rp.to_jshtml())\n"
      ]
    }
  ],
  "metadata": {
    "kernelspec": {
      "display_name": "Python 3",
      "language": "python",
      "name": "python3"
    },
    "language_info": {
      "name": "python",
      "version": "3.10",
      "mimetype": "text/x-python",
      "codemirror_mode": {
        "name": "ipython",
        "version": 3
      },
      "pygments_lexer": "ipython3",
      "nbconvert_exporter": "python"
    }
  },
  "nbformat": 4,
  "nbformat_minor": 5
}