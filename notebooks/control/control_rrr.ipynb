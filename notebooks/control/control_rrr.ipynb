{
 "cells": [
  {
   "cell_type": "code",
   "execution_count": null,
   "metadata": {},
   "outputs": [],
   "source": [
    "import numpy as np\n",
    "import sympy as sp\n",
    "import matplotlib.pyplot as plt\n",
    "from matplotlib.animation import FuncAnimation\n",
    "from IPython.display import HTML\n",
    "from utils import time_vector, circular_task_reference, plot_tracking\n",
    "\n",
    "plt.style.use('seaborn-v0_8')\n"
   ]
  },
  {
   "cell_type": "markdown",
   "metadata": {},
   "source": [
    "# Control cinemático del manipulador RRR planar\n"
   ]
  },
  {
   "cell_type": "markdown",
   "metadata": {},
   "source": [
    "## 1. Parámetros\n"
   ]
  },
  {
   "cell_type": "code",
   "execution_count": null,
   "metadata": {},
   "outputs": [],
   "source": [
    "params_rrr = {\n",
    "    'L1': 0.7,\n",
    "    'L2': 0.6,\n",
    "    'L3': 0.4\n",
    "}\n",
    "\n",
    "sim_config_rrr = {\n",
    "    'kp': np.diag([9.0, 9.0, 6.0]),\n",
    "    't0': 0.0,\n",
    "    'tf': 10.0,\n",
    "    'n_steps': 800\n",
    "}\n",
    "\n",
    "t_rrr, dt_rrr = time_vector(sim_config_rrr)\n"
   ]
  },
  {
   "cell_type": "markdown",
   "metadata": {},
   "source": [
    "## 2. Cinemática directa\n"
   ]
  },
  {
   "cell_type": "code",
   "execution_count": null,
   "metadata": {},
   "outputs": [],
   "source": [
    "def fkine_rrr(q, params):\n",
    "    q1, q2, q3 = q\n",
    "    L1, L2, L3 = params['L1'], params['L2'], params['L3']\n",
    "    c1, s1 = np.cos(q1), np.sin(q1)\n",
    "    c12, s12 = np.cos(q1 + q2), np.sin(q1 + q2)\n",
    "    c123, s123 = np.cos(q1 + q2 + q3), np.sin(q1 + q2 + q3)\n",
    "\n",
    "    x = L1 * c1 + L2 * c12 + L3 * c123\n",
    "    y = L1 * s1 + L2 * s12 + L3 * s123\n",
    "    theta = q1 + q2 + q3\n",
    "    return np.array([x, y, theta])\n",
    "\n",
    "fkine_rrr(np.zeros(3), params_rrr)\n"
   ]
  },
  {
   "cell_type": "markdown",
   "metadata": {},
   "source": [
    "## 3. Jacobiano\n"
   ]
  },
  {
   "cell_type": "code",
   "execution_count": null,
   "metadata": {},
   "outputs": [],
   "source": [
    "def jacobian_rrr(q, params):\n",
    "    q1, q2, q3 = q\n",
    "    L1, L2, L3 = params['L1'], params['L2'], params['L3']\n",
    "\n",
    "    s1 = np.sin(q1)\n",
    "    c1 = np.cos(q1)\n",
    "    s12 = np.sin(q1 + q2)\n",
    "    c12 = np.cos(q1 + q2)\n",
    "    s123 = np.sin(q1 + q2 + q3)\n",
    "    c123 = np.cos(q1 + q2 + q3)\n",
    "\n",
    "    J = np.array([\n",
    "        [-L1 * s1 - L2 * s12 - L3 * s123, -L2 * s12 - L3 * s123, -L3 * s123],\n",
    "        [ L1 * c1 + L2 * c12 + L3 * c123,  L2 * c12 + L3 * c123,  L3 * c123],\n",
    "        [1.0, 1.0, 1.0]\n",
    "    ])\n",
    "    return J\n",
    "\n",
    "jacobian_rrr(np.zeros(3), params_rrr)\n"
   ]
  },
  {
   "cell_type": "markdown",
   "metadata": {},
   "source": [
    "### Derivación simbólica\n"
   ]
  },
  {
   "cell_type": "code",
   "execution_count": null,
   "metadata": {},
   "outputs": [],
   "source": [
    "q1_s, q2_s, q3_s, L1_s, L2_s, L3_s = sp.symbols('q1 q2 q3 L1 L2 L3')\n",
    "px = L1_s * sp.cos(q1_s) + L2_s * sp.cos(q1_s + q2_s) + L3_s * sp.cos(q1_s + q2_s + q3_s)\n",
    "py = L1_s * sp.sin(q1_s) + L2_s * sp.sin(q1_s + q2_s) + L3_s * sp.sin(q1_s + q2_s + q3_s)\n",
    "pt = q1_s + q2_s + q3_s\n",
    "J_symbolic = sp.Matrix([px, py, pt]).jacobian([q1_s, q2_s, q3_s])\n",
    "sp.simplify(J_symbolic)\n"
   ]
  },
  {
   "cell_type": "markdown",
   "metadata": {},
   "source": [
    "## 4. Trayectoria objetivo\n"
   ]
  },
  {
   "cell_type": "code",
   "execution_count": null,
   "metadata": {},
   "outputs": [],
   "source": [
    "radius_rrr = 0.25\n",
    "center_rrr = (1.1, 0.2)\n",
    "omega_rrr = 0.7\n",
    "\n",
    "Xd_planar_rrr, Vd_planar_rrr = circular_task_reference(radius_rrr, center_rrr, omega_rrr, t_rrr)\n",
    "theta_d_rrr = np.unwrap(np.arctan2(Vd_planar_rrr[1], Vd_planar_rrr[0]))\n",
    "theta_dp_rrr = np.gradient(theta_d_rrr, t_rrr)\n",
    "\n",
    "Xd_rrr = np.vstack((Xd_planar_rrr, theta_d_rrr))\n",
    "Vd_rrr = np.vstack((Vd_planar_rrr, theta_dp_rrr))\n",
    "Xd_rrr[:, :3]\n"
   ]
  },
  {
   "cell_type": "markdown",
   "metadata": {},
   "source": [
    "## 5. Control cinemático\n"
   ]
  },
  {
   "cell_type": "code",
   "execution_count": null,
   "metadata": {},
   "outputs": [],
   "source": [
    "def kinematic_control_step_rrr(q, params, xd, xdp, kp):\n",
    "    x = fkine_rrr(q, params)\n",
    "    J = jacobian_rrr(q, params)\n",
    "    dq = np.linalg.solve(J, xdp + kp @ (xd - x))\n",
    "    return dq, x\n",
    "\n",
    "kinematic_control_step_rrr(np.zeros(3), params_rrr, Xd_rrr[:, 0], Vd_rrr[:, 0], sim_config_rrr['kp'])\n"
   ]
  },
  {
   "cell_type": "markdown",
   "metadata": {},
   "source": [
    "## 6. Simulación\n"
   ]
  },
  {
   "cell_type": "code",
   "execution_count": null,
   "metadata": {},
   "outputs": [],
   "source": [
    "def simulate_rrr_control(q0, params, Xd, Vd, t, kp):\n",
    "    n = t.size\n",
    "    dt = t[1] - t[0]\n",
    "    q = np.zeros((3, n))\n",
    "    X = np.zeros((3, n))\n",
    "    q[:, 0] = q0\n",
    "    X[:, 0] = fkine_rrr(q0, params)\n",
    "    for k in range(1, n):\n",
    "        dq, _ = kinematic_control_step_rrr(q[:, k-1], params, Xd[:, k-1], Vd[:, k-1], kp)\n",
    "        q[:, k] = q[:, k-1] + dt * dq\n",
    "        X[:, k] = fkine_rrr(q[:, k])\n",
    "    return q, X\n",
    "\n",
    "q0_rrr = np.array([0.1, -0.2, 0.3])\n",
    "theta_rrr, X_rrr = simulate_rrr_control(q0_rrr, params_rrr, Xd_rrr, Vd_rrr, t_rrr, sim_config_rrr['kp'])\n",
    "X_rrr[:, :3]\n"
   ]
  },
  {
   "cell_type": "code",
   "execution_count": null,
   "metadata": {},
   "outputs": [],
   "source": [
    "theta_error_rrr = np.angle(np.exp(1j * (Xd_rrr[2] - X_rrr[2])))\n",
    "position_error_rrr = np.linalg.norm(Xd_rrr[:2] - X_rrr[:2], axis=0)\n",
    "max_pos_error_rrr = float(np.max(position_error_rrr))\n",
    "max_theta_error_rrr = float(np.max(np.abs(theta_error_rrr)))\n",
    "print(f'Error máximo de posición: {max_pos_error_rrr:.4f} m')\n",
    "print(f'Error máximo de orientación: {max_theta_error_rrr:.4f} rad')\n",
    "assert max_pos_error_rrr < 5e-2\n",
    "assert max_theta_error_rrr < 8e-2\n"
   ]
  },
  {
   "cell_type": "markdown",
   "metadata": {},
   "source": [
    "## 7. Visualización\n"
   ]
  },
  {
   "cell_type": "code",
   "execution_count": null,
   "metadata": {},
   "outputs": [],
   "source": [
    "fig_rrr = plot_tracking(X_rrr[:2], Xd_rrr[:2], t_rrr)\n",
    "fig_rrr.axes[0].set_title('Trayectoria planar (x, y)')\n",
    "fig_rrr.axes[1].set_title('Errores de posición en el plano')\n",
    "fig_rrr\n"
   ]
  },
  {
   "cell_type": "code",
   "execution_count": null,
   "metadata": {},
   "outputs": [],
   "source": [
    "plt.figure(figsize=(6, 3))\n",
    "plt.plot(t_rrr, np.rad2deg(theta_error_rrr), label='Error de orientación')\n",
    "plt.xlabel('Tiempo [s]')\n",
    "plt.ylabel('Error [deg]')\n",
    "plt.title('Seguimiento de la orientación θ')\n",
    "plt.legend()\n",
    "plt.grid(True)\n",
    "plt.tight_layout()\n"
   ]
  },
  {
   "cell_type": "markdown",
   "metadata": {},
   "source": [
    "### Animación\n"
   ]
  },
  {
   "cell_type": "code",
   "execution_count": null,
   "metadata": {},
   "outputs": [],
   "source": [
    "def animate_rrr(theta, X, Xd, params, skip=2):\n",
    "    L1, L2, L3 = params['L1'], params['L2'], params['L3']\n",
    "\n",
    "    fig, ax = plt.subplots(figsize=(6, 6))\n",
    "    ax.set_aspect('equal', adjustable='box')\n",
    "    margin = 0.3\n",
    "    x_all = np.concatenate([X[0], Xd[0]])\n",
    "    y_all = np.concatenate([X[1], Xd[1]])\n",
    "    ax.set_xlim(np.min(x_all) - margin, np.max(x_all) + margin)\n",
    "    ax.set_ylim(np.min(y_all) - margin, np.max(y_all) + margin)\n",
    "    ax.set_xlabel('x [m]')\n",
    "    ax.set_ylabel('y [m]')\n",
    "    ax.set_title('Robot planar RRR')\n",
    "\n",
    "    desired_line, = ax.plot(Xd[0], Xd[1], '--', linewidth=1.2, label='Trayectoria deseada')\n",
    "    trail_line,   = ax.plot([], [], ':', linewidth=1.5, label='Rastro')\n",
    "    link1_line, = ax.plot([], [], 'k-', linewidth=3)\n",
    "    link2_line, = ax.plot([], [], 'k-', linewidth=3)\n",
    "    link3_line, = ax.plot([], [], 'k-', linewidth=3)\n",
    "    ee_point,   = ax.plot([], [], 'o', markersize=5)\n",
    "    ax.legend(loc='upper right')\n",
    "\n",
    "    def joint_positions(q):\n",
    "        q1, q2, q3 = q\n",
    "        p0 = np.array([0.0, 0.0])\n",
    "        p1 = p0 + np.array([L1 * np.cos(q1), L1 * np.sin(q1)])\n",
    "        p2 = p1 + np.array([L2 * np.cos(q1 + q2), L2 * np.sin(q1 + q2)])\n",
    "        p3 = p2 + np.array([L3 * np.cos(q1 + q2 + q3), L3 * np.sin(q1 + q2 + q3)])\n",
    "        return p0, p1, p2, p3\n",
    "\n",
    "    trail_x, trail_y = [], []\n",
    "\n",
    "    def update(frame):\n",
    "        k = frame * skip\n",
    "        if k >= theta.shape[1]:\n",
    "            k = theta.shape[1] - 1\n",
    "        q = theta[:, k]\n",
    "        p0, p1, p2, p3 = joint_positions(q)\n",
    "        link1_line.set_data([p0[0], p1[0]], [p0[1], p1[1]])\n",
    "        link2_line.set_data([p1[0], p2[0]], [p1[1], p2[1]])\n",
    "        link3_line.set_data([p2[0], p3[0]], [p2[1], p3[1]])\n",
    "        ee_point.set_data(p3[0], p3[1])\n",
    "        trail_x.append(p3[0])\n",
    "        trail_y.append(p3[1])\n",
    "        trail_line.set_data(trail_x, trail_y)\n",
    "        return link1_line, link2_line, link3_line, ee_point, trail_line\n",
    "\n",
    "    frames = max(1, theta.shape[1] // skip)\n",
    "    anim = FuncAnimation(fig, update, frames=frames, interval=40, blit=True, repeat=False)\n",
    "    plt.close(fig)\n",
    "    return anim\n",
    "\n",
    "anim_rrr = animate_rrr(theta_rrr, X_rrr, Xd_rrr, params_rrr)\n",
    "HTML(anim_rrr.to_jshtml())\n"
   ]
  }
 ],
 "metadata": {
  "kernelspec": {
   "display_name": "Python 3",
   "language": "python",
   "name": "python3"
  },
  "language_info": {
   "name": "python",
   "version": "3.10"
  }
 },
 "nbformat": 4,
 "nbformat_minor": 5
}